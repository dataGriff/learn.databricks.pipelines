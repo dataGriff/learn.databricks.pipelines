{
 "cells": [
  {
   "cell_type": "code",
   "execution_count": null,
   "metadata": {},
   "outputs": [],
   "source": [
    "%sql\n",
    "CREATE SCHEMA IF NOT EXISTS main.whiskey;"
   ]
  },
  {
   "cell_type": "code",
   "execution_count": 28,
   "metadata": {},
   "outputs": [
    {
     "data": {
      "text/html": [
       "<table border=\"1\" class=\"dataframe\">\n",
       "  <thead>\n",
       "    <tr style=\"text-align: right;\">\n",
       "      <th></th>\n",
       "    </tr>\n",
       "  </thead>\n",
       "  <tbody>\n",
       "  </tbody>\n",
       "</table>"
      ],
      "text/plain": [
       "DataFrame[]"
      ]
     },
     "execution_count": 28,
     "metadata": {},
     "output_type": "execute_result"
    }
   ],
   "source": [
    "%sql\n",
    "CREATE OR REPLACE TABLE main.whiskey.whiskeys (\n",
    "  whiskey_name STRING not null primary key COMMENT \"Name of the whiskey\",\n",
    "  country STRING not null COMMENT \"Country whiskey originates from\"\n",
    ") COMMENT \"List of whiskies\";"
   ]
  },
  {
   "cell_type": "code",
   "execution_count": null,
   "metadata": {},
   "outputs": [],
   "source": [
    "%sql\n",
    "DELETE FROM main.whiskey.whiskeys;"
   ]
  },
  {
   "cell_type": "code",
   "execution_count": 30,
   "metadata": {},
   "outputs": [
    {
     "data": {
      "text/html": [
       "<table border=\"1\" class=\"dataframe\">\n",
       "  <thead>\n",
       "    <tr style=\"text-align: right;\">\n",
       "      <th></th>\n",
       "      <th>num_affected_rows</th>\n",
       "      <th>num_inserted_rows</th>\n",
       "    </tr>\n",
       "  </thead>\n",
       "  <tbody>\n",
       "    <tr>\n",
       "      <th>0</th>\n",
       "      <td>1</td>\n",
       "      <td>1</td>\n",
       "    </tr>\n",
       "  </tbody>\n",
       "</table>"
      ],
      "text/plain": [
       "DataFrame[num_affected_rows: bigint, num_inserted_rows: bigint]"
      ]
     },
     "execution_count": 30,
     "metadata": {},
     "output_type": "execute_result"
    }
   ],
   "source": [
    "%sql\n",
    "INSERT INTO main.whiskey.whiskeys VALUES ('Lagavulin 16', 'Scotland');"
   ]
  },
  {
   "cell_type": "code",
   "execution_count": 47,
   "metadata": {},
   "outputs": [
    {
     "data": {
      "text/html": [
       "<table border=\"1\" class=\"dataframe\">\n",
       "  <thead>\n",
       "    <tr style=\"text-align: right;\">\n",
       "      <th></th>\n",
       "      <th>num_affected_rows</th>\n",
       "      <th>num_inserted_rows</th>\n",
       "    </tr>\n",
       "  </thead>\n",
       "  <tbody>\n",
       "    <tr>\n",
       "      <th>0</th>\n",
       "      <td>1</td>\n",
       "      <td>1</td>\n",
       "    </tr>\n",
       "  </tbody>\n",
       "</table>"
      ],
      "text/plain": [
       "DataFrame[num_affected_rows: bigint, num_inserted_rows: bigint]"
      ]
     },
     "execution_count": 47,
     "metadata": {},
     "output_type": "execute_result"
    }
   ],
   "source": [
    "%sql\n",
    "INSERT INTO main.whiskey.whiskeys VALUES ('Nikkei Grain Coffee', 'Japan');"
   ]
  },
  {
   "cell_type": "code",
   "execution_count": null,
   "metadata": {},
   "outputs": [],
   "source": [
    "%pip install datacontract-cli[databricks]\n",
    "%pip install deltalake\n",
    "dbutils.library.restartPython()"
   ]
  },
  {
   "cell_type": "code",
   "execution_count": 48,
   "metadata": {},
   "outputs": [
    {
     "data": {
      "text/plain": [
       "'failed'"
      ]
     },
     "execution_count": 48,
     "metadata": {},
     "output_type": "execute_result"
    }
   ],
   "source": [
    "from datacontract.data_contract import DataContract\n",
    "\n",
    "data_contract = DataContract(\n",
    "  #data_contract_file=\"https://raw.githubusercontent.com/dataGriff/learn.databricks.pipelines/main/dab_mine/my_project/contract/datacontract.yaml\",\n",
    "  data_contract_file=\"/workspace/learn.databricks.pipelines/dab_mine/my_project/contract/datacontract.yaml\",\n",
    "  spark=spark)\n",
    "run = data_contract.test()\n",
    "run.result\n"
   ]
  },
  {
   "cell_type": "code",
   "execution_count": 49,
   "metadata": {},
   "outputs": [],
   "source": [
    "checks = run.checks\n"
   ]
  },
  {
   "cell_type": "code",
   "execution_count": 50,
   "metadata": {},
   "outputs": [],
   "source": [
    "data = [\n",
    "    {\n",
    "        'type': check.type,\n",
    "        'name': check.name,\n",
    "        'result': check.result,\n",
    "        'engine': check.engine,\n",
    "        'reason': check.reason,\n",
    "        'model': check.model,\n",
    "        'field': check.field,\n",
    "        'details': check.details,\n",
    "        'diagnostics': check.diagnostics\n",
    "    }\n",
    "    for check in checks\n",
    "]"
   ]
  },
  {
   "cell_type": "code",
   "execution_count": 53,
   "metadata": {},
   "outputs": [
    {
     "data": {
      "text/html": [
       "<div>\n",
       "<style scoped>\n",
       "    .dataframe tbody tr th:only-of-type {\n",
       "        vertical-align: middle;\n",
       "    }\n",
       "\n",
       "    .dataframe tbody tr th {\n",
       "        vertical-align: top;\n",
       "    }\n",
       "\n",
       "    .dataframe thead th {\n",
       "        text-align: right;\n",
       "    }\n",
       "</style>\n",
       "<table border=\"1\" class=\"dataframe\">\n",
       "  <thead>\n",
       "    <tr style=\"text-align: right;\">\n",
       "      <th></th>\n",
       "      <th>type</th>\n",
       "      <th>name</th>\n",
       "      <th>result</th>\n",
       "      <th>engine</th>\n",
       "      <th>reason</th>\n",
       "      <th>model</th>\n",
       "      <th>field</th>\n",
       "      <th>details</th>\n",
       "      <th>diagnostics</th>\n",
       "    </tr>\n",
       "  </thead>\n",
       "  <tbody>\n",
       "    <tr>\n",
       "      <th>0</th>\n",
       "      <td>schema</td>\n",
       "      <td>Check that field whiskey_name is present</td>\n",
       "      <td>passed</td>\n",
       "      <td>soda-core</td>\n",
       "      <td></td>\n",
       "      <td>whiskeys</td>\n",
       "      <td>None</td>\n",
       "      <td>None</td>\n",
       "      <td>{'blocks': [{'type': 'csv', 'text': 'Column,Ty...</td>\n",
       "    </tr>\n",
       "    <tr>\n",
       "      <th>1</th>\n",
       "      <td>schema</td>\n",
       "      <td>Check that field whiskey_name has type STRING</td>\n",
       "      <td>passed</td>\n",
       "      <td>soda-core</td>\n",
       "      <td></td>\n",
       "      <td>whiskeys</td>\n",
       "      <td>None</td>\n",
       "      <td>None</td>\n",
       "      <td>{'blocks': [{'type': 'csv', 'text': 'Column,Ty...</td>\n",
       "    </tr>\n",
       "    <tr>\n",
       "      <th>2</th>\n",
       "      <td>schema</td>\n",
       "      <td>Check that field country is present</td>\n",
       "      <td>passed</td>\n",
       "      <td>soda-core</td>\n",
       "      <td></td>\n",
       "      <td>whiskeys</td>\n",
       "      <td>None</td>\n",
       "      <td>None</td>\n",
       "      <td>{'blocks': [{'type': 'csv', 'text': 'Column,Ty...</td>\n",
       "    </tr>\n",
       "    <tr>\n",
       "      <th>3</th>\n",
       "      <td>schema</td>\n",
       "      <td>Check that field country has type STRING</td>\n",
       "      <td>passed</td>\n",
       "      <td>soda-core</td>\n",
       "      <td></td>\n",
       "      <td>whiskeys</td>\n",
       "      <td>None</td>\n",
       "      <td>None</td>\n",
       "      <td>{'blocks': [{'type': 'csv', 'text': 'Column,Ty...</td>\n",
       "    </tr>\n",
       "    <tr>\n",
       "      <th>4</th>\n",
       "      <td>schema</td>\n",
       "      <td>row_count &gt; 5</td>\n",
       "      <td>failed</td>\n",
       "      <td>soda-core</td>\n",
       "      <td></td>\n",
       "      <td>whiskeys</td>\n",
       "      <td>None</td>\n",
       "      <td>None</td>\n",
       "      <td>{'blocks': [], 'value': 2, 'fail': {'lessThanO...</td>\n",
       "    </tr>\n",
       "    <tr>\n",
       "      <th>5</th>\n",
       "      <td>schema</td>\n",
       "      <td>Check that required field whiskey_name has no ...</td>\n",
       "      <td>passed</td>\n",
       "      <td>soda-core</td>\n",
       "      <td></td>\n",
       "      <td>whiskeys</td>\n",
       "      <td>whiskey_name</td>\n",
       "      <td>None</td>\n",
       "      <td>{'blocks': [], 'value': 0, 'fail': {'greaterTh...</td>\n",
       "    </tr>\n",
       "    <tr>\n",
       "      <th>6</th>\n",
       "      <td>schema</td>\n",
       "      <td>Check that unique field whiskey_name has no du...</td>\n",
       "      <td>passed</td>\n",
       "      <td>soda-core</td>\n",
       "      <td></td>\n",
       "      <td>whiskeys</td>\n",
       "      <td>whiskey_name</td>\n",
       "      <td>None</td>\n",
       "      <td>{'blocks': [], 'value': 0, 'fail': {'greaterTh...</td>\n",
       "    </tr>\n",
       "    <tr>\n",
       "      <th>7</th>\n",
       "      <td>schema</td>\n",
       "      <td>Check that required field country has no null ...</td>\n",
       "      <td>passed</td>\n",
       "      <td>soda-core</td>\n",
       "      <td></td>\n",
       "      <td>whiskeys</td>\n",
       "      <td>country</td>\n",
       "      <td>None</td>\n",
       "      <td>{'blocks': [], 'value': 0, 'fail': {'greaterTh...</td>\n",
       "    </tr>\n",
       "    <tr>\n",
       "      <th>8</th>\n",
       "      <td>schema</td>\n",
       "      <td>Check that field country only contains enum va...</td>\n",
       "      <td>failed</td>\n",
       "      <td>soda-core</td>\n",
       "      <td></td>\n",
       "      <td>whiskeys</td>\n",
       "      <td>country</td>\n",
       "      <td>None</td>\n",
       "      <td>{'blocks': [{'type': 'failedRowsAnalysis', 'ti...</td>\n",
       "    </tr>\n",
       "  </tbody>\n",
       "</table>\n",
       "</div>"
      ],
      "text/plain": [
       "     type                                               name  result  \\\n",
       "0  schema           Check that field whiskey_name is present  passed   \n",
       "1  schema      Check that field whiskey_name has type STRING  passed   \n",
       "2  schema                Check that field country is present  passed   \n",
       "3  schema           Check that field country has type STRING  passed   \n",
       "4  schema                                      row_count > 5  failed   \n",
       "5  schema  Check that required field whiskey_name has no ...  passed   \n",
       "6  schema  Check that unique field whiskey_name has no du...  passed   \n",
       "7  schema  Check that required field country has no null ...  passed   \n",
       "8  schema  Check that field country only contains enum va...  failed   \n",
       "\n",
       "      engine reason     model         field details  \\\n",
       "0  soda-core         whiskeys          None    None   \n",
       "1  soda-core         whiskeys          None    None   \n",
       "2  soda-core         whiskeys          None    None   \n",
       "3  soda-core         whiskeys          None    None   \n",
       "4  soda-core         whiskeys          None    None   \n",
       "5  soda-core         whiskeys  whiskey_name    None   \n",
       "6  soda-core         whiskeys  whiskey_name    None   \n",
       "7  soda-core         whiskeys       country    None   \n",
       "8  soda-core         whiskeys       country    None   \n",
       "\n",
       "                                         diagnostics  \n",
       "0  {'blocks': [{'type': 'csv', 'text': 'Column,Ty...  \n",
       "1  {'blocks': [{'type': 'csv', 'text': 'Column,Ty...  \n",
       "2  {'blocks': [{'type': 'csv', 'text': 'Column,Ty...  \n",
       "3  {'blocks': [{'type': 'csv', 'text': 'Column,Ty...  \n",
       "4  {'blocks': [], 'value': 2, 'fail': {'lessThanO...  \n",
       "5  {'blocks': [], 'value': 0, 'fail': {'greaterTh...  \n",
       "6  {'blocks': [], 'value': 0, 'fail': {'greaterTh...  \n",
       "7  {'blocks': [], 'value': 0, 'fail': {'greaterTh...  \n",
       "8  {'blocks': [{'type': 'failedRowsAnalysis', 'ti...  "
      ]
     },
     "metadata": {},
     "output_type": "display_data"
    }
   ],
   "source": [
    "import pandas as pd\n",
    "df = pd.DataFrame(data)\n",
    "display(df)"
   ]
  }
 ],
 "metadata": {
  "kernelspec": {
   "display_name": ".venv",
   "language": "python",
   "name": "python3"
  },
  "language_info": {
   "codemirror_mode": {
    "name": "ipython",
    "version": 3
   },
   "file_extension": ".py",
   "mimetype": "text/x-python",
   "name": "python",
   "nbconvert_exporter": "python",
   "pygments_lexer": "ipython3",
   "version": "3.10.14"
  }
 },
 "nbformat": 4,
 "nbformat_minor": 2
}
