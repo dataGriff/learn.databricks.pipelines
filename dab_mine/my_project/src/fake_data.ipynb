{
 "cells": [
  {
   "cell_type": "code",
   "execution_count": 2,
   "metadata": {},
   "outputs": [
    {
     "data": {
      "text/html": [
       "<table border=\"1\" class=\"dataframe\">\n",
       "  <thead>\n",
       "    <tr style=\"text-align: right;\">\n",
       "      <th></th>\n",
       "    </tr>\n",
       "  </thead>\n",
       "  <tbody>\n",
       "  </tbody>\n",
       "</table>"
      ],
      "text/plain": [
       "DataFrame[]"
      ]
     },
     "execution_count": 2,
     "metadata": {},
     "output_type": "execute_result"
    }
   ],
   "source": [
    "%sql\n",
    "CREATE SCHEMA IF NOT EXISTS main.whiskey;"
   ]
  },
  {
   "cell_type": "code",
   "execution_count": 3,
   "metadata": {},
   "outputs": [
    {
     "data": {
      "text/html": [
       "<table border=\"1\" class=\"dataframe\">\n",
       "  <thead>\n",
       "    <tr style=\"text-align: right;\">\n",
       "      <th></th>\n",
       "    </tr>\n",
       "  </thead>\n",
       "  <tbody>\n",
       "  </tbody>\n",
       "</table>"
      ],
      "text/plain": [
       "DataFrame[]"
      ]
     },
     "execution_count": 3,
     "metadata": {},
     "output_type": "execute_result"
    }
   ],
   "source": [
    "%sql\n",
    "CREATE TABLE IF NOT EXISTS main.whiskey.whiskeys (\n",
    "    whiskey_name STRING\n",
    ");"
   ]
  },
  {
   "cell_type": "code",
   "execution_count": 4,
   "metadata": {},
   "outputs": [
    {
     "data": {
      "text/html": [
       "<table border=\"1\" class=\"dataframe\">\n",
       "  <thead>\n",
       "    <tr style=\"text-align: right;\">\n",
       "      <th></th>\n",
       "      <th>num_affected_rows</th>\n",
       "      <th>num_inserted_rows</th>\n",
       "    </tr>\n",
       "  </thead>\n",
       "  <tbody>\n",
       "    <tr>\n",
       "      <th>0</th>\n",
       "      <td>1</td>\n",
       "      <td>1</td>\n",
       "    </tr>\n",
       "  </tbody>\n",
       "</table>"
      ],
      "text/plain": [
       "DataFrame[num_affected_rows: bigint, num_inserted_rows: bigint]"
      ]
     },
     "execution_count": 4,
     "metadata": {},
     "output_type": "execute_result"
    }
   ],
   "source": [
    "%sql\n",
    "INSERT INTO main.whiskey.whiskeys VALUES ('Lagavulin 16');"
   ]
  },
  {
   "cell_type": "code",
   "execution_count": 5,
   "metadata": {},
   "outputs": [
    {
     "data": {
      "text/html": [
       "<table border=\"1\" class=\"dataframe\">\n",
       "  <thead>\n",
       "    <tr style=\"text-align: right;\">\n",
       "      <th></th>\n",
       "      <th>num_affected_rows</th>\n",
       "      <th>num_inserted_rows</th>\n",
       "    </tr>\n",
       "  </thead>\n",
       "  <tbody>\n",
       "    <tr>\n",
       "      <th>0</th>\n",
       "      <td>1</td>\n",
       "      <td>1</td>\n",
       "    </tr>\n",
       "  </tbody>\n",
       "</table>"
      ],
      "text/plain": [
       "DataFrame[num_affected_rows: bigint, num_inserted_rows: bigint]"
      ]
     },
     "execution_count": 5,
     "metadata": {},
     "output_type": "execute_result"
    }
   ],
   "source": [
    "%sql\n",
    "INSERT INTO main.whiskey.whiskeys VALUES ('Lagavulin 16');"
   ]
  },
  {
   "cell_type": "code",
   "execution_count": 6,
   "metadata": {},
   "outputs": [
    {
     "name": "stdout",
     "output_type": "stream",
     "text": [
      "Requirement already satisfied: datacontract-cli[databricks] in /workspace/learn.databricks.pipelines/.venv/lib/python3.10/site-packages (0.10.11)\n",
      "Requirement already satisfied: python-dotenv~=1.0.0 in /workspace/learn.databricks.pipelines/.venv/lib/python3.10/site-packages (from datacontract-cli[databricks]) (1.0.1)\n",
      "Requirement already satisfied: fastparquet==2024.5.0 in /workspace/learn.databricks.pipelines/.venv/lib/python3.10/site-packages (from datacontract-cli[databricks]) (2024.5.0)\n",
      "Requirement already satisfied: pyyaml~=6.0.1 in /workspace/learn.databricks.pipelines/.venv/lib/python3.10/site-packages (from datacontract-cli[databricks]) (6.0.2)\n",
      "Requirement already satisfied: soda-core-duckdb<3.4.0,>=3.3.1 in /workspace/learn.databricks.pipelines/.venv/lib/python3.10/site-packages (from datacontract-cli[databricks]) (3.3.18)\n",
      "Requirement already satisfied: duckdb==1.0.0 in /workspace/learn.databricks.pipelines/.venv/lib/python3.10/site-packages (from datacontract-cli[databricks]) (1.0.0)\n",
      "Requirement already satisfied: rdflib==7.0.0 in /workspace/learn.databricks.pipelines/.venv/lib/python3.10/site-packages (from datacontract-cli[databricks]) (7.0.0)\n",
      "Requirement already satisfied: jinja-partials>=0.2.1 in /workspace/learn.databricks.pipelines/.venv/lib/python3.10/site-packages (from datacontract-cli[databricks]) (0.2.1)\n",
      "Requirement already satisfied: simple-ddl-parser==1.5.2 in /workspace/learn.databricks.pipelines/.venv/lib/python3.10/site-packages (from datacontract-cli[databricks]) (1.5.2)\n",
      "Requirement already satisfied: botocore<1.34.137,>=1.34.41 in /workspace/learn.databricks.pipelines/.venv/lib/python3.10/site-packages (from datacontract-cli[databricks]) (1.34.136)\n",
      "Requirement already satisfied: opentelemetry-exporter-otlp-proto-grpc~=1.16 in /workspace/learn.databricks.pipelines/.venv/lib/python3.10/site-packages (from datacontract-cli[databricks]) (1.22.0)\n",
      "Requirement already satisfied: fastapi==0.111.1 in /workspace/learn.databricks.pipelines/.venv/lib/python3.10/site-packages (from datacontract-cli[databricks]) (0.111.1)\n",
      "Requirement already satisfied: opentelemetry-exporter-otlp-proto-http~=1.16 in /workspace/learn.databricks.pipelines/.venv/lib/python3.10/site-packages (from datacontract-cli[databricks]) (1.22.0)\n",
      "Requirement already satisfied: boto3<1.34.137,>=1.34.41 in /workspace/learn.databricks.pipelines/.venv/lib/python3.10/site-packages (from datacontract-cli[databricks]) (1.34.136)\n",
      "Requirement already satisfied: python-multipart==0.0.9 in /workspace/learn.databricks.pipelines/.venv/lib/python3.10/site-packages (from datacontract-cli[databricks]) (0.0.9)\n",
      "Requirement already satisfied: setuptools>=60 in /workspace/learn.databricks.pipelines/.venv/lib/python3.10/site-packages (from datacontract-cli[databricks]) (65.5.0)\n",
      "Requirement already satisfied: pydantic<2.9.0,>=2.8.2 in /workspace/learn.databricks.pipelines/.venv/lib/python3.10/site-packages (from datacontract-cli[databricks]) (2.8.2)\n",
      "Requirement already satisfied: rich~=13.7.0 in /workspace/learn.databricks.pipelines/.venv/lib/python3.10/site-packages (from datacontract-cli[databricks]) (13.7.1)\n",
      "Requirement already satisfied: requests<2.33,>=2.31 in /workspace/learn.databricks.pipelines/.venv/lib/python3.10/site-packages (from datacontract-cli[databricks]) (2.32.3)\n",
      "Requirement already satisfied: fastjsonschema<2.21.0,>=2.19.1 in /workspace/learn.databricks.pipelines/.venv/lib/python3.10/site-packages (from datacontract-cli[databricks]) (2.20.0)\n",
      "Requirement already satisfied: typer[all]<0.13,>=0.9 in /workspace/learn.databricks.pipelines/.venv/lib/python3.10/site-packages (from datacontract-cli[databricks]) (0.12.5)\n",
      "Requirement already satisfied: soda-core-spark[databricks]<3.4.0,>=3.3.1 in /workspace/learn.databricks.pipelines/.venv/lib/python3.10/site-packages (from datacontract-cli[databricks]) (3.3.18)\n",
      "Requirement already satisfied: soda-core-spark-df<3.4.0,>=3.3.1 in /workspace/learn.databricks.pipelines/.venv/lib/python3.10/site-packages (from datacontract-cli[databricks]) (3.3.18)\n",
      "Requirement already satisfied: databricks-sql-connector<3.4.0,>=3.1.2 in /workspace/learn.databricks.pipelines/.venv/lib/python3.10/site-packages (from datacontract-cli[databricks]) (3.3.0)\n",
      "Requirement already satisfied: starlette<0.38.0,>=0.37.2 in /workspace/learn.databricks.pipelines/.venv/lib/python3.10/site-packages (from fastapi==0.111.1->datacontract-cli[databricks]) (0.37.2)\n",
      "Requirement already satisfied: httpx>=0.23.0 in /workspace/learn.databricks.pipelines/.venv/lib/python3.10/site-packages (from fastapi==0.111.1->datacontract-cli[databricks]) (0.27.0)\n",
      "Requirement already satisfied: uvicorn[standard]>=0.12.0 in /workspace/learn.databricks.pipelines/.venv/lib/python3.10/site-packages (from fastapi==0.111.1->datacontract-cli[databricks]) (0.30.6)\n",
      "Requirement already satisfied: fastapi-cli>=0.0.2 in /workspace/learn.databricks.pipelines/.venv/lib/python3.10/site-packages (from fastapi==0.111.1->datacontract-cli[databricks]) (0.0.5)\n",
      "Requirement already satisfied: email_validator>=2.0.0 in /workspace/learn.databricks.pipelines/.venv/lib/python3.10/site-packages (from fastapi==0.111.1->datacontract-cli[databricks]) (2.2.0)\n",
      "Requirement already satisfied: jinja2>=2.11.2 in /workspace/learn.databricks.pipelines/.venv/lib/python3.10/site-packages (from fastapi==0.111.1->datacontract-cli[databricks]) (3.1.4)\n",
      "Requirement already satisfied: typing-extensions>=4.8.0 in /workspace/learn.databricks.pipelines/.venv/lib/python3.10/site-packages (from fastapi==0.111.1->datacontract-cli[databricks]) (4.12.2)\n",
      "Requirement already satisfied: numpy in /workspace/learn.databricks.pipelines/.venv/lib/python3.10/site-packages (from fastparquet==2024.5.0->datacontract-cli[databricks]) (1.26.4)\n",
      "Requirement already satisfied: packaging in /workspace/learn.databricks.pipelines/.venv/lib/python3.10/site-packages (from fastparquet==2024.5.0->datacontract-cli[databricks]) (24.1)\n",
      "Requirement already satisfied: pandas>=1.5.0 in /workspace/learn.databricks.pipelines/.venv/lib/python3.10/site-packages (from fastparquet==2024.5.0->datacontract-cli[databricks]) (2.1.4)\n",
      "Requirement already satisfied: fsspec in /workspace/learn.databricks.pipelines/.venv/lib/python3.10/site-packages (from fastparquet==2024.5.0->datacontract-cli[databricks]) (2024.6.1)\n",
      "Requirement already satisfied: cramjam>=2.3 in /workspace/learn.databricks.pipelines/.venv/lib/python3.10/site-packages (from fastparquet==2024.5.0->datacontract-cli[databricks]) (2.8.3)\n",
      "Requirement already satisfied: isodate<0.7.0,>=0.6.0 in /workspace/learn.databricks.pipelines/.venv/lib/python3.10/site-packages (from rdflib==7.0.0->datacontract-cli[databricks]) (0.6.1)\n",
      "Requirement already satisfied: pyparsing<4,>=2.1.0 in /workspace/learn.databricks.pipelines/.venv/lib/python3.10/site-packages (from rdflib==7.0.0->datacontract-cli[databricks]) (3.1.4)\n",
      "Requirement already satisfied: ply<4.0,>=3.11 in /workspace/learn.databricks.pipelines/.venv/lib/python3.10/site-packages (from simple-ddl-parser==1.5.2->datacontract-cli[databricks]) (3.11)\n",
      "Requirement already satisfied: jmespath<2.0.0,>=0.7.1 in /workspace/learn.databricks.pipelines/.venv/lib/python3.10/site-packages (from boto3<1.34.137,>=1.34.41->datacontract-cli[databricks]) (1.0.1)\n",
      "Requirement already satisfied: s3transfer<0.11.0,>=0.10.0 in /workspace/learn.databricks.pipelines/.venv/lib/python3.10/site-packages (from boto3<1.34.137,>=1.34.41->datacontract-cli[databricks]) (0.10.2)\n",
      "Requirement already satisfied: python-dateutil<3.0.0,>=2.1 in /workspace/learn.databricks.pipelines/.venv/lib/python3.10/site-packages (from botocore<1.34.137,>=1.34.41->datacontract-cli[databricks]) (2.9.0.post0)\n",
      "Requirement already satisfied: urllib3!=2.2.0,<3,>=1.25.4 in /workspace/learn.databricks.pipelines/.venv/lib/python3.10/site-packages (from botocore<1.34.137,>=1.34.41->datacontract-cli[databricks]) (2.2.2)\n",
      "Requirement already satisfied: lz4<5.0.0,>=4.0.2 in /workspace/learn.databricks.pipelines/.venv/lib/python3.10/site-packages (from databricks-sql-connector<3.4.0,>=3.1.2->datacontract-cli[databricks]) (4.3.3)\n",
      "Requirement already satisfied: oauthlib<4.0.0,>=3.1.0 in /workspace/learn.databricks.pipelines/.venv/lib/python3.10/site-packages (from databricks-sql-connector<3.4.0,>=3.1.2->datacontract-cli[databricks]) (3.2.2)\n",
      "Requirement already satisfied: pyarrow<17,>=14.0.1 in /workspace/learn.databricks.pipelines/.venv/lib/python3.10/site-packages (from databricks-sql-connector<3.4.0,>=3.1.2->datacontract-cli[databricks]) (16.1.0)\n",
      "Requirement already satisfied: thrift<0.21.0,>=0.16.0 in /workspace/learn.databricks.pipelines/.venv/lib/python3.10/site-packages (from databricks-sql-connector<3.4.0,>=3.1.2->datacontract-cli[databricks]) (0.20.0)\n",
      "Requirement already satisfied: openpyxl<4.0.0,>=3.0.10 in /workspace/learn.databricks.pipelines/.venv/lib/python3.10/site-packages (from databricks-sql-connector<3.4.0,>=3.1.2->datacontract-cli[databricks]) (3.1.5)\n",
      "Requirement already satisfied: deprecated>=1.2.6 in /workspace/learn.databricks.pipelines/.venv/lib/python3.10/site-packages (from opentelemetry-exporter-otlp-proto-grpc~=1.16->datacontract-cli[databricks]) (1.2.14)\n",
      "Requirement already satisfied: opentelemetry-sdk~=1.22.0 in /workspace/learn.databricks.pipelines/.venv/lib/python3.10/site-packages (from opentelemetry-exporter-otlp-proto-grpc~=1.16->datacontract-cli[databricks]) (1.22.0)\n",
      "Requirement already satisfied: opentelemetry-proto==1.22.0 in /workspace/learn.databricks.pipelines/.venv/lib/python3.10/site-packages (from opentelemetry-exporter-otlp-proto-grpc~=1.16->datacontract-cli[databricks]) (1.22.0)\n",
      "Requirement already satisfied: googleapis-common-protos~=1.52 in /workspace/learn.databricks.pipelines/.venv/lib/python3.10/site-packages (from opentelemetry-exporter-otlp-proto-grpc~=1.16->datacontract-cli[databricks]) (1.63.2)\n",
      "Requirement already satisfied: backoff<3.0.0,>=1.10.0 in /workspace/learn.databricks.pipelines/.venv/lib/python3.10/site-packages (from opentelemetry-exporter-otlp-proto-grpc~=1.16->datacontract-cli[databricks]) (2.2.1)\n",
      "Requirement already satisfied: opentelemetry-api~=1.15 in /workspace/learn.databricks.pipelines/.venv/lib/python3.10/site-packages (from opentelemetry-exporter-otlp-proto-grpc~=1.16->datacontract-cli[databricks]) (1.22.0)\n",
      "Requirement already satisfied: grpcio<2.0.0,>=1.0.0 in /workspace/learn.databricks.pipelines/.venv/lib/python3.10/site-packages (from opentelemetry-exporter-otlp-proto-grpc~=1.16->datacontract-cli[databricks]) (1.66.0)\n",
      "Requirement already satisfied: opentelemetry-exporter-otlp-proto-common==1.22.0 in /workspace/learn.databricks.pipelines/.venv/lib/python3.10/site-packages (from opentelemetry-exporter-otlp-proto-grpc~=1.16->datacontract-cli[databricks]) (1.22.0)\n",
      "Requirement already satisfied: protobuf<5.0,>=3.19 in /workspace/learn.databricks.pipelines/.venv/lib/python3.10/site-packages (from opentelemetry-proto==1.22.0->opentelemetry-exporter-otlp-proto-grpc~=1.16->datacontract-cli[databricks]) (4.25.4)\n",
      "Requirement already satisfied: pydantic-core==2.20.1 in /workspace/learn.databricks.pipelines/.venv/lib/python3.10/site-packages (from pydantic<2.9.0,>=2.8.2->datacontract-cli[databricks]) (2.20.1)\n",
      "Requirement already satisfied: annotated-types>=0.4.0 in /workspace/learn.databricks.pipelines/.venv/lib/python3.10/site-packages (from pydantic<2.9.0,>=2.8.2->datacontract-cli[databricks]) (0.7.0)\n",
      "Requirement already satisfied: charset-normalizer<4,>=2 in /workspace/learn.databricks.pipelines/.venv/lib/python3.10/site-packages (from requests<2.33,>=2.31->datacontract-cli[databricks]) (3.3.2)\n",
      "Requirement already satisfied: idna<4,>=2.5 in /workspace/learn.databricks.pipelines/.venv/lib/python3.10/site-packages (from requests<2.33,>=2.31->datacontract-cli[databricks]) (3.8)\n",
      "Requirement already satisfied: certifi>=2017.4.17 in /workspace/learn.databricks.pipelines/.venv/lib/python3.10/site-packages (from requests<2.33,>=2.31->datacontract-cli[databricks]) (2024.7.4)\n",
      "Requirement already satisfied: pygments<3.0.0,>=2.13.0 in /workspace/learn.databricks.pipelines/.venv/lib/python3.10/site-packages (from rich~=13.7.0->datacontract-cli[databricks]) (2.18.0)\n",
      "Requirement already satisfied: markdown-it-py>=2.2.0 in /workspace/learn.databricks.pipelines/.venv/lib/python3.10/site-packages (from rich~=13.7.0->datacontract-cli[databricks]) (3.0.0)\n",
      "Requirement already satisfied: soda-core==3.3.18 in /workspace/learn.databricks.pipelines/.venv/lib/python3.10/site-packages (from soda-core-duckdb<3.4.0,>=3.3.1->datacontract-cli[databricks]) (3.3.18)\n",
      "Requirement already satisfied: markupsafe<=2.1.2,>=2.0.1 in /workspace/learn.databricks.pipelines/.venv/lib/python3.10/site-packages (from soda-core==3.3.18->soda-core-duckdb<3.4.0,>=3.3.1->datacontract-cli[databricks]) (2.1.2)\n",
      "Requirement already satisfied: click~=8.0 in /workspace/learn.databricks.pipelines/.venv/lib/python3.10/site-packages (from soda-core==3.3.18->soda-core-duckdb<3.4.0,>=3.3.1->datacontract-cli[databricks]) (8.1.7)\n",
      "Requirement already satisfied: sqlparse~=0.4 in /workspace/learn.databricks.pipelines/.venv/lib/python3.10/site-packages (from soda-core==3.3.18->soda-core-duckdb<3.4.0,>=3.3.1->datacontract-cli[databricks]) (0.5.1)\n",
      "Requirement already satisfied: ruamel.yaml<0.18.0,>=0.17.0 in /workspace/learn.databricks.pipelines/.venv/lib/python3.10/site-packages (from soda-core==3.3.18->soda-core-duckdb<3.4.0,>=3.3.1->datacontract-cli[databricks]) (0.17.40)\n",
      "Requirement already satisfied: inflect~=7.0 in /workspace/learn.databricks.pipelines/.venv/lib/python3.10/site-packages (from soda-core==3.3.18->soda-core-duckdb<3.4.0,>=3.3.1->datacontract-cli[databricks]) (7.3.1)\n",
      "Requirement already satisfied: antlr4-python3-runtime~=4.11.1 in /workspace/learn.databricks.pipelines/.venv/lib/python3.10/site-packages (from soda-core==3.3.18->soda-core-duckdb<3.4.0,>=3.3.1->datacontract-cli[databricks]) (4.11.1)\n",
      "Requirement already satisfied: pyspark>=3.4.0 in /workspace/learn.databricks.pipelines/.venv/lib/python3.10/site-packages (from soda-core-spark-df<3.4.0,>=3.3.1->datacontract-cli[databricks]) (3.5.2)\n",
      "\u001b[33mWARNING: typer 0.12.5 does not provide the extra 'all'\u001b[0m\u001b[33m\n",
      "\u001b[0mRequirement already satisfied: shellingham>=1.3.0 in /workspace/learn.databricks.pipelines/.venv/lib/python3.10/site-packages (from typer[all]<0.13,>=0.9->datacontract-cli[databricks]) (1.5.4)\n",
      "Requirement already satisfied: wrapt<2,>=1.10 in /workspace/learn.databricks.pipelines/.venv/lib/python3.10/site-packages (from deprecated>=1.2.6->opentelemetry-exporter-otlp-proto-grpc~=1.16->datacontract-cli[databricks]) (1.16.0)\n",
      "Requirement already satisfied: dnspython>=2.0.0 in /workspace/learn.databricks.pipelines/.venv/lib/python3.10/site-packages (from email_validator>=2.0.0->fastapi==0.111.1->datacontract-cli[databricks]) (2.6.1)\n",
      "Requirement already satisfied: httpcore==1.* in /workspace/learn.databricks.pipelines/.venv/lib/python3.10/site-packages (from httpx>=0.23.0->fastapi==0.111.1->datacontract-cli[databricks]) (1.0.5)\n",
      "Requirement already satisfied: anyio in /workspace/learn.databricks.pipelines/.venv/lib/python3.10/site-packages (from httpx>=0.23.0->fastapi==0.111.1->datacontract-cli[databricks]) (4.4.0)\n",
      "Requirement already satisfied: sniffio in /workspace/learn.databricks.pipelines/.venv/lib/python3.10/site-packages (from httpx>=0.23.0->fastapi==0.111.1->datacontract-cli[databricks]) (1.3.1)\n",
      "Requirement already satisfied: h11<0.15,>=0.13 in /workspace/learn.databricks.pipelines/.venv/lib/python3.10/site-packages (from httpcore==1.*->httpx>=0.23.0->fastapi==0.111.1->datacontract-cli[databricks]) (0.14.0)\n",
      "Requirement already satisfied: six in /workspace/learn.databricks.pipelines/.venv/lib/python3.10/site-packages (from isodate<0.7.0,>=0.6.0->rdflib==7.0.0->datacontract-cli[databricks]) (1.16.0)\n",
      "Requirement already satisfied: mdurl~=0.1 in /workspace/learn.databricks.pipelines/.venv/lib/python3.10/site-packages (from markdown-it-py>=2.2.0->rich~=13.7.0->datacontract-cli[databricks]) (0.1.2)\n",
      "Requirement already satisfied: et-xmlfile in /workspace/learn.databricks.pipelines/.venv/lib/python3.10/site-packages (from openpyxl<4.0.0,>=3.0.10->databricks-sql-connector<3.4.0,>=3.1.2->datacontract-cli[databricks]) (1.1.0)\n",
      "Requirement already satisfied: importlib-metadata<7.0,>=6.0 in /workspace/learn.databricks.pipelines/.venv/lib/python3.10/site-packages (from opentelemetry-api~=1.15->opentelemetry-exporter-otlp-proto-grpc~=1.16->datacontract-cli[databricks]) (6.11.0)\n",
      "Requirement already satisfied: opentelemetry-semantic-conventions==0.43b0 in /workspace/learn.databricks.pipelines/.venv/lib/python3.10/site-packages (from opentelemetry-sdk~=1.22.0->opentelemetry-exporter-otlp-proto-grpc~=1.16->datacontract-cli[databricks]) (0.43b0)\n",
      "Requirement already satisfied: pytz>=2020.1 in /workspace/learn.databricks.pipelines/.venv/lib/python3.10/site-packages (from pandas>=1.5.0->fastparquet==2024.5.0->datacontract-cli[databricks]) (2024.1)\n",
      "Requirement already satisfied: tzdata>=2022.1 in /workspace/learn.databricks.pipelines/.venv/lib/python3.10/site-packages (from pandas>=1.5.0->fastparquet==2024.5.0->datacontract-cli[databricks]) (2024.1)\n",
      "Requirement already satisfied: py4j==0.10.9.7 in /workspace/learn.databricks.pipelines/.venv/lib/python3.10/site-packages (from pyspark>=3.4.0->soda-core-spark-df<3.4.0,>=3.3.1->datacontract-cli[databricks]) (0.10.9.7)\n",
      "Requirement already satisfied: httptools>=0.5.0 in /workspace/learn.databricks.pipelines/.venv/lib/python3.10/site-packages (from uvicorn[standard]>=0.12.0->fastapi==0.111.1->datacontract-cli[databricks]) (0.6.1)\n",
      "Requirement already satisfied: watchfiles>=0.13 in /workspace/learn.databricks.pipelines/.venv/lib/python3.10/site-packages (from uvicorn[standard]>=0.12.0->fastapi==0.111.1->datacontract-cli[databricks]) (0.23.0)\n",
      "Requirement already satisfied: websockets>=10.4 in /workspace/learn.databricks.pipelines/.venv/lib/python3.10/site-packages (from uvicorn[standard]>=0.12.0->fastapi==0.111.1->datacontract-cli[databricks]) (13.0)\n",
      "Requirement already satisfied: uvloop!=0.15.0,!=0.15.1,>=0.14.0 in /workspace/learn.databricks.pipelines/.venv/lib/python3.10/site-packages (from uvicorn[standard]>=0.12.0->fastapi==0.111.1->datacontract-cli[databricks]) (0.20.0)\n",
      "Requirement already satisfied: exceptiongroup>=1.0.2 in /workspace/learn.databricks.pipelines/.venv/lib/python3.10/site-packages (from anyio->httpx>=0.23.0->fastapi==0.111.1->datacontract-cli[databricks]) (1.2.2)\n",
      "Requirement already satisfied: zipp>=0.5 in /workspace/learn.databricks.pipelines/.venv/lib/python3.10/site-packages (from importlib-metadata<7.0,>=6.0->opentelemetry-api~=1.15->opentelemetry-exporter-otlp-proto-grpc~=1.16->datacontract-cli[databricks]) (3.20.0)\n",
      "Requirement already satisfied: more-itertools>=8.5.0 in /workspace/learn.databricks.pipelines/.venv/lib/python3.10/site-packages (from inflect~=7.0->soda-core==3.3.18->soda-core-duckdb<3.4.0,>=3.3.1->datacontract-cli[databricks]) (10.4.0)\n",
      "Requirement already satisfied: typeguard>=4.0.1 in /workspace/learn.databricks.pipelines/.venv/lib/python3.10/site-packages (from inflect~=7.0->soda-core==3.3.18->soda-core-duckdb<3.4.0,>=3.3.1->datacontract-cli[databricks]) (4.3.0)\n",
      "Requirement already satisfied: ruamel.yaml.clib>=0.2.7 in /workspace/learn.databricks.pipelines/.venv/lib/python3.10/site-packages (from ruamel.yaml<0.18.0,>=0.17.0->soda-core==3.3.18->soda-core-duckdb<3.4.0,>=3.3.1->datacontract-cli[databricks]) (0.2.8)\n",
      "\n",
      "\u001b[1m[\u001b[0m\u001b[34;49mnotice\u001b[0m\u001b[1;39;49m]\u001b[0m\u001b[39;49m A new release of pip is available: \u001b[0m\u001b[31;49m23.0.1\u001b[0m\u001b[39;49m -> \u001b[0m\u001b[32;49m24.2\u001b[0m\n",
      "\u001b[1m[\u001b[0m\u001b[34;49mnotice\u001b[0m\u001b[1;39;49m]\u001b[0m\u001b[39;49m To update, run: \u001b[0m\u001b[32;49mpip install --upgrade pip\u001b[0m\n",
      "Note: you may need to restart the kernel to use updated packages.\n"
     ]
    }
   ],
   "source": [
    "%pip install datacontract-cli[databricks]\n",
    "%pip install deltalake\n",
    "dbutils.library.restartPython()"
   ]
  },
  {
   "cell_type": "code",
   "execution_count": 8,
   "metadata": {},
   "outputs": [
    {
     "name": "stderr",
     "output_type": "stream",
     "text": [
      "ERROR:soda.scan:[14:52:54] Query execution error in 4.databricks.whiskey.aggregation[0]: [TABLE_OR_VIEW_NOT_FOUND] The table or view `whiskey` cannot be found. Verify the spelling and correctness of the schema and catalog.\n",
      "If you did not qualify the name with a schema, verify the current_schema() output, or qualify the name with the correct schema and catalog.\n",
      "To tolerate the error on drop use DROP VIEW IF EXISTS or DROP TABLE IF EXISTS. SQLSTATE: 42P01; line 3 pos 5;\n",
      "'Aggregate [unresolvedalias(count(1))]\n",
      "+- 'UnresolvedRelation [whiskey], [], false\n",
      "\n",
      "SELECT \n",
      "  COUNT(*) \n",
      "FROM whiskey\n",
      "ERROR:soda.scan:  | [TABLE_OR_VIEW_NOT_FOUND] The table or view `whiskey` cannot be found. Verify the spelling and correctness of the schema and catalog.\n",
      "  | If you did not qualify the name with a schema, verify the current_schema() output, or qualify the name with the correct schema and catalog.\n",
      "  | To tolerate the error on drop use DROP VIEW IF EXISTS or DROP TABLE IF EXISTS. SQLSTATE: 42P01; line 3 pos 5;\n",
      "  | 'Aggregate [unresolvedalias(count(1))]\n",
      "  | +- 'UnresolvedRelation [whiskey], [], false\n",
      "\n",
      "ERROR:soda.scan:[14:52:56] Metrics 'row_count' were not computed for check 'row_count > 2'\n",
      "ERROR:soda.scan:[14:52:56] Query execution error in 4.databricks.whiskey.aggregation[0]: [TABLE_OR_VIEW_NOT_FOUND] The table or view `whiskey` cannot be found. Verify the spelling and correctness of the schema and catalog.\n",
      "If you did not qualify the name with a schema, verify the current_schema() output, or qualify the name with the correct schema and catalog.\n",
      "To tolerate the error on drop use DROP VIEW IF EXISTS or DROP TABLE IF EXISTS. SQLSTATE: 42P01; line 3 pos 5;\n",
      "'Aggregate [unresolvedalias(count(1))]\n",
      "+- 'UnresolvedRelation [whiskey], [], false\n",
      "\n",
      "SELECT \n",
      "  COUNT(*) \n",
      "FROM whiskey\n",
      "ERROR:soda.scan:  | [TABLE_OR_VIEW_NOT_FOUND] The table or view `whiskey` cannot be found. Verify the spelling and correctness of the schema and catalog.\n",
      "  | If you did not qualify the name with a schema, verify the current_schema() output, or qualify the name with the correct schema and catalog.\n",
      "  | To tolerate the error on drop use DROP VIEW IF EXISTS or DROP TABLE IF EXISTS. SQLSTATE: 42P01; line 3 pos 5;\n",
      "  | 'Aggregate [unresolvedalias(count(1))]\n",
      "  | +- 'UnresolvedRelation [whiskey], [], false\n",
      "\n",
      "ERROR:soda.scan:[14:52:56] Metrics 'row_count' were not computed for check 'row_count > 2'\n",
      "WARNING:root:Engine soda-core has errors. See the logs for details.\n"
     ]
    },
    {
     "data": {
      "text/plain": [
       "'failed'"
      ]
     },
     "execution_count": 8,
     "metadata": {},
     "output_type": "execute_result"
    }
   ],
   "source": [
    "from datacontract.data_contract import DataContract\n",
    "\n",
    "data_contract = DataContract(\n",
    "  data_contract_file=\"https://raw.githubusercontent.com/dataGriff/learn.databricks.pipelines/main/dab_mine/my_project/contract/datacontract.yaml\",\n",
    "  #data_contract_file=\"/workspace/learn.databricks.pipelines/dab_mine/my_project/contract/datacontract.yaml\",\n",
    "  spark=spark)\n",
    "run = data_contract.test()\n",
    "run.result\n"
   ]
  },
  {
   "cell_type": "code",
   "execution_count": 9,
   "metadata": {},
   "outputs": [
    {
     "data": {
      "text/plain": [
       "[Check(type='schema', name='Check that field whiskey_name is present', result='passed', engine='soda-core', reason='', model='whiskeys', field=None, details=None, diagnostics={'blocks': [{'type': 'csv', 'text': 'Column,Type\\nwhiskey_name,string', 'title': 'Schema'}], 'column_additions': [], 'column_deletions': [], 'column_index_changes': {}, 'column_index_mismatches': {}, 'column_type_changes': {}, 'column_type_mismatches': {}, 'missing_column_names': [], 'present_column_names': [], 'preferredChart': 'bars', 'valueLabel': '0 schema event(s)', 'valueSeries': {'values': [{'label': 'fail', 'value': 0, 'outcome': 'fail'}, {'label': 'warn', 'value': 0, 'outcome': 'warn'}, {'label': 'pass', 'value': 1, 'outcome': 'pass'}]}}),\n",
       " Check(type='schema', name='Check that field whiskey_name has type STRING', result='passed', engine='soda-core', reason='', model='whiskeys', field=None, details=None, diagnostics={'blocks': [{'type': 'csv', 'text': 'Column,Type\\nwhiskey_name,string', 'title': 'Schema'}], 'column_additions': [], 'column_deletions': [], 'column_index_changes': {}, 'column_index_mismatches': {}, 'column_type_changes': {}, 'column_type_mismatches': {}, 'missing_column_names': [], 'present_column_names': [], 'preferredChart': 'bars', 'valueLabel': '0 schema event(s)', 'valueSeries': {'values': [{'label': 'fail', 'value': 0, 'outcome': 'fail'}, {'label': 'warn', 'value': 0, 'outcome': 'warn'}, {'label': 'pass', 'value': 1, 'outcome': 'pass'}]}}),\n",
       " Check(type='schema', name='Check that required field whiskey_name has no null values', result='passed', engine='soda-core', reason='', model='whiskeys', field='whiskey_name', details=None, diagnostics={'blocks': [], 'value': 0, 'fail': {'greaterThan': 0.0, 'lessThan': 0.0}}),\n",
       " Check(type='schema', name='Check that unique field whiskey_name has no duplicate values', result='failed', engine='soda-core', reason='', model='whiskeys', field='whiskey_name', details=None, diagnostics={'blocks': [{'type': 'failedRowsAnalysis', 'title': 'Failed Rows Analysis', 'file': {'columns': [{'name': 'whiskey_name', 'type': 'StringType'}], 'totalRowCount': 4, 'storedRowCount': 4, 'reference': {'type': 'noFile', 'message': 'Samples are not sent to Soda Cloud', 'link': {'href': None, 'text': None}, 'fileId': ''}}, 'failingRowsQueryName': '3.databricks.whiskeys.whiskey_name.duplicate_count.failing_sql', 'passingRowsQueryName': '3.databricks.whiskeys.whiskey_name.duplicate_count.passing_sql', 'totalFailingRows': 1, 'sampleRowCount': 4}], 'value': 1, 'fail': {'greaterThan': 0.0, 'lessThan': 0.0}}),\n",
       " Check(type='general', name='Execute quality checks', result='warning', engine='soda-core', reason='Engine soda-core has errors. See the logs for details.', model=None, field=None, details=None, diagnostics=None)]"
      ]
     },
     "execution_count": 9,
     "metadata": {},
     "output_type": "execute_result"
    }
   ],
   "source": [
    "run.checks"
   ]
  }
 ],
 "metadata": {
  "kernelspec": {
   "display_name": ".venv",
   "language": "python",
   "name": "python3"
  },
  "language_info": {
   "codemirror_mode": {
    "name": "ipython",
    "version": 3
   },
   "file_extension": ".py",
   "mimetype": "text/x-python",
   "name": "python",
   "nbconvert_exporter": "python",
   "pygments_lexer": "ipython3",
   "version": "3.10.14"
  }
 },
 "nbformat": 4,
 "nbformat_minor": 2
}
