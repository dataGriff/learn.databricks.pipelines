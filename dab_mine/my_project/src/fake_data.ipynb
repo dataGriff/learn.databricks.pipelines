{
 "cells": [
  {
   "cell_type": "code",
   "execution_count": null,
   "metadata": {},
   "outputs": [],
   "source": [
    "%sql\n",
    "CREATE SCHEMA IF NOT EXISTS main.whiskey;"
   ]
  },
  {
   "cell_type": "code",
   "execution_count": 28,
   "metadata": {},
   "outputs": [
    {
     "data": {
      "text/html": [
       "<table border=\"1\" class=\"dataframe\">\n",
       "  <thead>\n",
       "    <tr style=\"text-align: right;\">\n",
       "      <th></th>\n",
       "    </tr>\n",
       "  </thead>\n",
       "  <tbody>\n",
       "  </tbody>\n",
       "</table>"
      ],
      "text/plain": [
       "DataFrame[]"
      ]
     },
     "execution_count": 28,
     "metadata": {},
     "output_type": "execute_result"
    }
   ],
   "source": [
    "%sql\n",
    "CREATE OR REPLACE TABLE main.whiskey.whiskeys (\n",
    "  whiskey_name STRING not null primary key COMMENT \"Name of the whiskey\",\n",
    "  country STRING not null COMMENT \"Country whiskey originates from\"\n",
    ") COMMENT \"List of whiskies\";"
   ]
  },
  {
   "cell_type": "code",
   "execution_count": null,
   "metadata": {},
   "outputs": [],
   "source": [
    "%sql\n",
    "DELETE FROM main.whiskey.whiskeys;"
   ]
  },
  {
   "cell_type": "code",
   "execution_count": 30,
   "metadata": {},
   "outputs": [
    {
     "data": {
      "text/html": [
       "<table border=\"1\" class=\"dataframe\">\n",
       "  <thead>\n",
       "    <tr style=\"text-align: right;\">\n",
       "      <th></th>\n",
       "      <th>num_affected_rows</th>\n",
       "      <th>num_inserted_rows</th>\n",
       "    </tr>\n",
       "  </thead>\n",
       "  <tbody>\n",
       "    <tr>\n",
       "      <th>0</th>\n",
       "      <td>1</td>\n",
       "      <td>1</td>\n",
       "    </tr>\n",
       "  </tbody>\n",
       "</table>"
      ],
      "text/plain": [
       "DataFrame[num_affected_rows: bigint, num_inserted_rows: bigint]"
      ]
     },
     "execution_count": 30,
     "metadata": {},
     "output_type": "execute_result"
    }
   ],
   "source": [
    "%sql\n",
    "INSERT INTO main.whiskey.whiskeys VALUES ('Lagavulin 16', 'Scotland');"
   ]
  },
  {
   "cell_type": "code",
   "execution_count": null,
   "metadata": {},
   "outputs": [],
   "source": [
    "%pip install datacontract-cli[databricks]\n",
    "%pip install deltalake\n",
    "dbutils.library.restartPython()"
   ]
  },
  {
   "cell_type": "code",
   "execution_count": 25,
   "metadata": {},
   "outputs": [
    {
     "data": {
      "text/plain": [
       "'passed'"
      ]
     },
     "execution_count": 25,
     "metadata": {},
     "output_type": "execute_result"
    }
   ],
   "source": [
    "from datacontract.data_contract import DataContract\n",
    "\n",
    "data_contract = DataContract(\n",
    "  #data_contract_file=\"https://raw.githubusercontent.com/dataGriff/learn.databricks.pipelines/main/dab_mine/my_project/contract/datacontract.yaml\",\n",
    "  data_contract_file=\"/workspace/learn.databricks.pipelines/dab_mine/my_project/contract/datacontract.yaml\",\n",
    "  spark=spark)\n",
    "run = data_contract.test()\n",
    "run.result\n"
   ]
  },
  {
   "cell_type": "code",
   "execution_count": 26,
   "metadata": {},
   "outputs": [
    {
     "data": {
      "text/plain": [
       "[Check(type='schema', name='Check that field whiskey_name is present', result='passed', engine='soda-core', reason='', model='whiskeys', field=None, details=None, diagnostics={'blocks': [{'type': 'csv', 'text': 'Column,Type\\nwhiskey_name,string', 'title': 'Schema'}], 'column_additions': [], 'column_deletions': [], 'column_index_changes': {}, 'column_index_mismatches': {}, 'column_type_changes': {}, 'column_type_mismatches': {}, 'missing_column_names': [], 'present_column_names': [], 'preferredChart': 'bars', 'valueLabel': '0 schema event(s)', 'valueSeries': {'values': [{'label': 'fail', 'value': 0, 'outcome': 'fail'}, {'label': 'warn', 'value': 0, 'outcome': 'warn'}, {'label': 'pass', 'value': 1, 'outcome': 'pass'}]}}),\n",
       " Check(type='schema', name='Check that field whiskey_name has type STRING', result='passed', engine='soda-core', reason='', model='whiskeys', field=None, details=None, diagnostics={'blocks': [{'type': 'csv', 'text': 'Column,Type\\nwhiskey_name,string', 'title': 'Schema'}], 'column_additions': [], 'column_deletions': [], 'column_index_changes': {}, 'column_index_mismatches': {}, 'column_type_changes': {}, 'column_type_mismatches': {}, 'missing_column_names': [], 'present_column_names': [], 'preferredChart': 'bars', 'valueLabel': '0 schema event(s)', 'valueSeries': {'values': [{'label': 'fail', 'value': 0, 'outcome': 'fail'}, {'label': 'warn', 'value': 0, 'outcome': 'warn'}, {'label': 'pass', 'value': 1, 'outcome': 'pass'}]}}),\n",
       " Check(type='schema', name='row_count > 0', result='passed', engine='soda-core', reason='', model='whiskeys', field=None, details=None, diagnostics={'blocks': [], 'value': 1, 'fail': {'lessThanOrEqual': 0.0}}),\n",
       " Check(type='schema', name='Check that required field whiskey_name has no null values', result='passed', engine='soda-core', reason='', model='whiskeys', field='whiskey_name', details=None, diagnostics={'blocks': [], 'value': 0, 'fail': {'greaterThan': 0.0, 'lessThan': 0.0}}),\n",
       " Check(type='schema', name='Check that unique field whiskey_name has no duplicate values', result='passed', engine='soda-core', reason='', model='whiskeys', field='whiskey_name', details=None, diagnostics={'blocks': [], 'value': 0, 'fail': {'greaterThan': 0.0, 'lessThan': 0.0}})]"
      ]
     },
     "metadata": {},
     "output_type": "display_data"
    }
   ],
   "source": [
    "df = run.checks\n",
    "display(df)"
   ]
  }
 ],
 "metadata": {
  "kernelspec": {
   "display_name": ".venv",
   "language": "python",
   "name": "python3"
  },
  "language_info": {
   "codemirror_mode": {
    "name": "ipython",
    "version": 3
   },
   "file_extension": ".py",
   "mimetype": "text/x-python",
   "name": "python",
   "nbconvert_exporter": "python",
   "pygments_lexer": "ipython3",
   "version": "3.10.14"
  }
 },
 "nbformat": 4,
 "nbformat_minor": 2
}
