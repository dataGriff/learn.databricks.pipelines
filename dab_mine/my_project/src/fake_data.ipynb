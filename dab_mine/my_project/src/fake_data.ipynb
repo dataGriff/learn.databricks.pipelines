{
 "cells": [
  {
   "cell_type": "code",
   "execution_count": null,
   "metadata": {},
   "outputs": [],
   "source": [
    "%sql\n",
    "CREATE SCHEMA IF NOT EXISTS main.whiskey;"
   ]
  },
  {
   "cell_type": "code",
   "execution_count": null,
   "metadata": {},
   "outputs": [],
   "source": [
    "%sql\n",
    "CREATE TABLE IF NOT EXISTS main.whiskey.whiskeys (\n",
    "    whiskey_name STRING\n",
    ");"
   ]
  },
  {
   "cell_type": "code",
   "execution_count": null,
   "metadata": {},
   "outputs": [],
   "source": [
    "%sql\n",
    "INSERT INTO main.whiskey.whiskeys VALUES ('Lagavulin 16');"
   ]
  },
  {
   "cell_type": "code",
   "execution_count": null,
   "metadata": {},
   "outputs": [],
   "source": [
    "%sql\n",
    "INSERT INTO main.whiskey.whiskeys VALUES ('Lagavulin 16');"
   ]
  },
  {
   "cell_type": "code",
   "execution_count": null,
   "metadata": {},
   "outputs": [],
   "source": [
    "%pip install datacontract-cli[databricks]\n",
    "%pip install deltalake\n",
    "dbutils.library.restartPython()"
   ]
  },
  {
   "cell_type": "code",
   "execution_count": 10,
   "metadata": {},
   "outputs": [
    {
     "name": "stderr",
     "output_type": "stream",
     "text": [
      "ERROR:soda.scan:[14:54:45] Query execution error in 9.databricks.whiskey.aggregation[0]: [TABLE_OR_VIEW_NOT_FOUND] The table or view `whiskey` cannot be found. Verify the spelling and correctness of the schema and catalog.\n",
      "If you did not qualify the name with a schema, verify the current_schema() output, or qualify the name with the correct schema and catalog.\n",
      "To tolerate the error on drop use DROP VIEW IF EXISTS or DROP TABLE IF EXISTS. SQLSTATE: 42P01; line 3 pos 5;\n",
      "'Aggregate [unresolvedalias(count(1))]\n",
      "+- 'UnresolvedRelation [whiskey], [], false\n",
      "\n",
      "SELECT \n",
      "  COUNT(*) \n",
      "FROM whiskey\n",
      "ERROR:soda.scan:  | [TABLE_OR_VIEW_NOT_FOUND] The table or view `whiskey` cannot be found. Verify the spelling and correctness of the schema and catalog.\n",
      "  | If you did not qualify the name with a schema, verify the current_schema() output, or qualify the name with the correct schema and catalog.\n",
      "  | To tolerate the error on drop use DROP VIEW IF EXISTS or DROP TABLE IF EXISTS. SQLSTATE: 42P01; line 3 pos 5;\n",
      "  | 'Aggregate [unresolvedalias(count(1))]\n",
      "  | +- 'UnresolvedRelation [whiskey], [], false\n",
      "\n",
      "ERROR:soda.scan:[14:54:47] Metrics 'row_count' were not computed for check 'row_count > 2'\n",
      "ERROR:soda.scan:[14:54:47] Query execution error in 9.databricks.whiskey.aggregation[0]: [TABLE_OR_VIEW_NOT_FOUND] The table or view `whiskey` cannot be found. Verify the spelling and correctness of the schema and catalog.\n",
      "If you did not qualify the name with a schema, verify the current_schema() output, or qualify the name with the correct schema and catalog.\n",
      "To tolerate the error on drop use DROP VIEW IF EXISTS or DROP TABLE IF EXISTS. SQLSTATE: 42P01; line 3 pos 5;\n",
      "'Aggregate [unresolvedalias(count(1))]\n",
      "+- 'UnresolvedRelation [whiskey], [], false\n",
      "\n",
      "SELECT \n",
      "  COUNT(*) \n",
      "FROM whiskey\n",
      "ERROR:soda.scan:  | [TABLE_OR_VIEW_NOT_FOUND] The table or view `whiskey` cannot be found. Verify the spelling and correctness of the schema and catalog.\n",
      "  | If you did not qualify the name with a schema, verify the current_schema() output, or qualify the name with the correct schema and catalog.\n",
      "  | To tolerate the error on drop use DROP VIEW IF EXISTS or DROP TABLE IF EXISTS. SQLSTATE: 42P01; line 3 pos 5;\n",
      "  | 'Aggregate [unresolvedalias(count(1))]\n",
      "  | +- 'UnresolvedRelation [whiskey], [], false\n",
      "\n",
      "ERROR:soda.scan:[14:54:47] Metrics 'row_count' were not computed for check 'row_count > 2'\n",
      "WARNING:root:Engine soda-core has errors. See the logs for details.\n"
     ]
    },
    {
     "data": {
      "text/plain": [
       "'failed'"
      ]
     },
     "execution_count": 10,
     "metadata": {},
     "output_type": "execute_result"
    }
   ],
   "source": [
    "from datacontract.data_contract import DataContract\n",
    "\n",
    "data_contract = DataContract(\n",
    "  data_contract_file=\"https://raw.githubusercontent.com/dataGriff/learn.databricks.pipelines/main/dab_mine/my_project/contract/datacontract.yaml\",\n",
    "  #data_contract_file=\"/workspace/learn.databricks.pipelines/dab_mine/my_project/contract/datacontract.yaml\",\n",
    "  spark=spark)\n",
    "run = data_contract.test()\n",
    "run.result\n"
   ]
  },
  {
   "cell_type": "code",
   "execution_count": null,
   "metadata": {},
   "outputs": [],
   "source": [
    "run.checks"
   ]
  }
 ],
 "metadata": {
  "kernelspec": {
   "display_name": ".venv",
   "language": "python",
   "name": "python3"
  },
  "language_info": {
   "codemirror_mode": {
    "name": "ipython",
    "version": 3
   },
   "file_extension": ".py",
   "mimetype": "text/x-python",
   "name": "python",
   "nbconvert_exporter": "python",
   "pygments_lexer": "ipython3",
   "version": "3.10.14"
  }
 },
 "nbformat": 4,
 "nbformat_minor": 2
}
